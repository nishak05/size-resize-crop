{
  "nbformat": 4,
  "nbformat_minor": 0,
  "metadata": {
    "colab": {
      "provenance": []
    },
    "kernelspec": {
      "name": "python3",
      "display_name": "Python 3"
    },
    "language_info": {
      "name": "python"
    }
  },
  "cells": [
    {
      "cell_type": "code",
      "execution_count": null,
      "metadata": {
        "id": "oZat6LF5Ms6D"
      },
      "outputs": [],
      "source": [
        "import cv2"
      ]
    },
    {
      "cell_type": "code",
      "source": [
        "img=cv2.imread('butterfly.jpg')\n",
        "\n",
        "print(img.shape)"
      ],
      "metadata": {
        "id": "uPBeGkHCMyyf"
      },
      "execution_count": null,
      "outputs": []
    },
    {
      "cell_type": "code",
      "source": [
        "crop_img=img[20:400, 50:300]\n"
      ],
      "metadata": {
        "id": "03Ia8PAwM2tC"
      },
      "execution_count": null,
      "outputs": []
    },
    {
      "cell_type": "code",
      "source": [
        "cv2.imshow('img',img)\n",
        "cv2.imshow('cropped_img',crop_img)\n",
        "cv2.waitKey(0)"
      ],
      "metadata": {
        "id": "DWIuLnu4M7bu"
      },
      "execution_count": null,
      "outputs": []
    }
  ]
}