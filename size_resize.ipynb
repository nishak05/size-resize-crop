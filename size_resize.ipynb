{
  "nbformat": 4,
  "nbformat_minor": 0,
  "metadata": {
    "colab": {
      "provenance": []
    },
    "kernelspec": {
      "name": "python3",
      "display_name": "Python 3"
    },
    "language_info": {
      "name": "python"
    }
  },
  "cells": [
    {
      "cell_type": "markdown",
      "source": [
        "SIZE"
      ],
      "metadata": {
        "id": "688NlxywMMvu"
      }
    },
    {
      "cell_type": "code",
      "execution_count": null,
      "metadata": {
        "id": "hwVYkD7hME77"
      },
      "outputs": [],
      "source": [
        "import cv2"
      ]
    },
    {
      "cell_type": "code",
      "source": [
        "img=cv2.imread('butterfly.jpg',-1)\n",
        "\n",
        "print(img.shape)"
      ],
      "metadata": {
        "id": "Zt1tBuXwMRWA"
      },
      "execution_count": null,
      "outputs": []
    },
    {
      "cell_type": "code",
      "source": [
        "cv2.imshow('img',img)\n",
        "cv2.waitKey(0)\n"
      ],
      "metadata": {
        "id": "mD_eDzt1MUBM"
      },
      "execution_count": null,
      "outputs": []
    },
    {
      "cell_type": "markdown",
      "source": [
        "RESIZE"
      ],
      "metadata": {
        "id": "EIrmFPSfMW6o"
      }
    },
    {
      "cell_type": "code",
      "source": [
        "img=cv2.imread('butterfly.jpg')\n"
      ],
      "metadata": {
        "id": "fAa07oHzMZpA"
      },
      "execution_count": null,
      "outputs": []
    },
    {
      "cell_type": "code",
      "source": [
        "r_img=cv2.resize(img, (986,712))\n",
        "print(img.shape)\n",
        "print(r_img.shape)\n"
      ],
      "metadata": {
        "id": "DAtXZXMGMjDO"
      },
      "execution_count": null,
      "outputs": []
    }
  ]
}